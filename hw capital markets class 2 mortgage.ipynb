{
 "cells": [
  {
   "cell_type": "code",
   "execution_count": 1,
   "metadata": {},
   "outputs": [],
   "source": [
    "import numpy as np\n",
    "import pandas as pd"
   ]
  },
  {
   "cell_type": "markdown",
   "metadata": {},
   "source": [
    "1."
   ]
  },
  {
   "cell_type": "code",
   "execution_count": 6,
   "metadata": {},
   "outputs": [],
   "source": [
    "def calc_mth_pmt(borrowing_amt, mortgage_rt, years):\n",
    "    r = mortgage_rt/12\n",
    "    n = years * 12\n",
    "    mth_pmt = borrowing_amt*(r*(1+r)**n)/((1+r)**n-1)\n",
    "    return mth_pmt"
   ]
  },
  {
   "cell_type": "code",
   "execution_count": 10,
   "metadata": {},
   "outputs": [
    {
     "name": "stdout",
     "output_type": "stream",
     "text": [
      "1478.4778907552575\n"
     ]
    }
   ],
   "source": [
    "print(calc_mth_pmt(400000,0.02,30))"
   ]
  },
  {
   "cell_type": "markdown",
   "metadata": {},
   "source": [
    "2."
   ]
  },
  {
   "cell_type": "code",
   "execution_count": 11,
   "metadata": {},
   "outputs": [],
   "source": [
    "def calc_borrowing_amt(mth_pmt,mortgage_rt,years):\n",
    "    r = mortgage_rt/12\n",
    "    n = years*12\n",
    "    borrowing_amt = mth_pmt*((1+r)**n-1)/(r*(1+r)**n)\n",
    "    return borrowing_amt"
   ]
  },
  {
   "cell_type": "code",
   "execution_count": null,
   "metadata": {},
   "outputs": [],
   "source": [
    "print(calc_borrowing_amt(1500,0.02,30))"
   ]
  },
  {
   "cell_type": "markdown",
   "metadata": {},
   "source": [
    "3."
   ]
  },
  {
   "cell_type": "code",
   "execution_count": 110,
   "metadata": {},
   "outputs": [],
   "source": [
    "import numpy as np"
   ]
  },
  {
   "cell_type": "code",
   "execution_count": 91,
   "metadata": {},
   "outputs": [],
   "source": [
    "def calc_mortgage_rt(borrowing_amt, mth_pmt, years):\n",
    "    n = years*12\n",
    "    mpr = np.rate(n, -mth_pmt, borrowing_amt,0.0, guess = 0.15)\n",
    "    #np.pv(mpr, n, mth_pmt)\n",
    "    return (1+mpr)**12-1\n"
   ]
  },
  {
   "cell_type": "code",
   "execution_count": 92,
   "metadata": {},
   "outputs": [
    {
     "name": "stdout",
     "output_type": "stream",
     "text": [
      "0.021276058938604514\n"
     ]
    },
    {
     "name": "stderr",
     "output_type": "stream",
     "text": [
      "<ipython-input-91-e9255773205f>:3: DeprecationWarning: numpy.rate is deprecated and will be removed from NumPy 1.20. Use numpy_financial.rate instead (https://pypi.org/project/numpy-financial/).\n",
      "  mpr = np.rate(n, -mth_pmt, borrowing_amt,0.0, guess = 0.15)\n"
     ]
    }
   ],
   "source": [
    "print(calc_mortgage_rt(400000,1500,30))"
   ]
  },
  {
   "cell_type": "markdown",
   "metadata": {},
   "source": [
    "4."
   ]
  },
  {
   "cell_type": "code",
   "execution_count": 106,
   "metadata": {},
   "outputs": [],
   "source": [
    "def calc_closing_cost(borrowing_amt, mortgage_rt, apr, years):\n",
    "    r = mortgage_rt/12\n",
    "    n = years * 12\n",
    "    a = apr/12\n",
    "    total_mth_pmt = borrowing_amt*(a*(1+a)**n)/((1+a)**n-1)\n",
    "    mth_pmt = borrowing_amt*(r*(1+r)**n)/((1+r)**n-1)\n",
    "    #closing_cost = (total_mth_pmt - mth_pmt)*12\n",
    "    #pv_cost = np.pv(r,n,-(total_mth_pmt - mth_pmt))\n",
    "    mth_closing = total_mth_pmt - mth_pmt\n",
    "    closing_cost = mth_closing*((1+r)**n-1)/(r*(1+r)**n)\n",
    "    return closing_cost"
   ]
  },
  {
   "cell_type": "code",
   "execution_count": 107,
   "metadata": {},
   "outputs": [
    {
     "name": "stdout",
     "output_type": "stream",
     "text": [
      "50441.614573443534\n"
     ]
    }
   ],
   "source": [
    "print(calc_closing_cost(400000, 0.02, 0.029, 30))"
   ]
  },
  {
   "cell_type": "markdown",
   "metadata": {},
   "source": [
    "5."
   ]
  },
  {
   "cell_type": "code",
   "execution_count": 108,
   "metadata": {},
   "outputs": [],
   "source": [
    "def calc_apr(borrowing_amt, mortgage_rt, closing_cost, years):\n",
    "    total_amount = borrowing_amt + closing_cost\n",
    "    r = mortgage_rt/12\n",
    "    n = years * 12\n",
    "\n",
    "    '''mth_mortgage = borrowing_amt*(r*(1+r)**n)/((1+r)**n-1)\n",
    "    #mth_apr = np.pmt(r,nper = n, pv = -closing_cost)\n",
    "    mth_closing = closing_cost*(r*(1+r)**n)/((1+r)**n-1)\n",
    "    mth_pmt = mth_closing + mth_mortgage\n",
    "    #mth_pmt = total_amount*(r*(1+r)**n)/((1+r)**n-1)'''\n",
    "    \n",
    "    mth_pmt = total_amount*(r*(1+r)**n)/((1+r)**n-1)\n",
    "    \n",
    "    mpr = np.rate(n, -mth_pmt, borrowing_amt,0.0, guess = 0.15)\n",
    "    #np.pv(mpr, n, mth_pmt)\n",
    "    return (1+mpr)**12-1, mth_pmt\n",
    "    "
   ]
  },
  {
   "cell_type": "code",
   "execution_count": 109,
   "metadata": {},
   "outputs": [
    {
     "name": "stdout",
     "output_type": "stream",
     "text": [
      "(0.029310304955431965, 1663.2876270996646)\n"
     ]
    },
    {
     "name": "stderr",
     "output_type": "stream",
     "text": [
      "<ipython-input-108-1c22d2e245f5>:13: DeprecationWarning: numpy.rate is deprecated and will be removed from NumPy 1.20. Use numpy_financial.rate instead (https://pypi.org/project/numpy-financial/).\n",
      "  mpr = np.rate(n, -mth_pmt, borrowing_amt,0.0, guess = 0.15)\n"
     ]
    }
   ],
   "source": [
    "print(calc_apr(400000,0.02,50000,30))"
   ]
  },
  {
   "cell_type": "code",
   "execution_count": null,
   "metadata": {},
   "outputs": [],
   "source": []
  },
  {
   "cell_type": "code",
   "execution_count": null,
   "metadata": {},
   "outputs": [],
   "source": []
  }
 ],
 "metadata": {
  "kernelspec": {
   "display_name": "Python 3",
   "language": "python",
   "name": "python3"
  },
  "language_info": {
   "codemirror_mode": {
    "name": "ipython",
    "version": 3
   },
   "file_extension": ".py",
   "mimetype": "text/x-python",
   "name": "python",
   "nbconvert_exporter": "python",
   "pygments_lexer": "ipython3",
   "version": "3.8.5"
  }
 },
 "nbformat": 4,
 "nbformat_minor": 4
}
